{
 "cells": [
  {
   "cell_type": "code",
   "execution_count": 9,
   "metadata": {},
   "outputs": [],
   "source": [
    "from scipy import misc\n",
    "import numpy as np\n",
    "import cv2\n",
    "import imageio\n",
    "import os\n",
    "from os import listdir\n",
    "from os.path import isfile, join\n",
    "from os import walk\n",
    "from itertools import count"
   ]
  },
  {
   "cell_type": "code",
   "execution_count": 178,
   "metadata": {},
   "outputs": [],
   "source": [
    "# Root path is: C:\\Users\\Administrator\n",
    "\n",
    "TRAIN_IMG_DIR = '.\\\\traffic\\\\datasets\\\\GTSRB_Noised\\\\Final_Training\\\\Images\\\\00042'"
   ]
  },
  {
   "cell_type": "code",
   "execution_count": 179,
   "metadata": {},
   "outputs": [],
   "source": [
    "# Erstellt ein Array mit den Dateinamen der Bilder\n",
    "image_filenames = [f for f in listdir(TRAIN_IMG_DIR) if f.endswith(\".ppm\")]\n",
    "\n",
    "f = []\n",
    "for (dirpath, dirnames, filenames) in walk(TRAIN_IMG_DIR):\n",
    "    f.extend(filenames)\n",
    "    break\n",
    "    \n",
    "# Erstellt ein Array mit dem absoluten Verzeichnispfad der Bilder \n",
    "images_absolute_filepaths = []\n",
    "\n",
    "for i in image_filenames:\n",
    "    abs_file_path = os.path.join(TRAIN_IMG_DIR, i)\n",
    "    images_absolute_filepaths.append(abs_file_path)"
   ]
  },
  {
   "cell_type": "code",
   "execution_count": 180,
   "metadata": {},
   "outputs": [],
   "source": [
    "#print(image_filenames)\n",
    "\n",
    "#print(images_absolute_filepaths)\n",
    "#len(images_absolute_filepaths)"
   ]
  },
  {
   "cell_type": "code",
   "execution_count": 181,
   "metadata": {},
   "outputs": [],
   "source": [
    "loop_counter = 0\n",
    "position_in_image_filenames = -1\n",
    "for img in images_absolute_filepaths:\n",
    "    if loop_counter == 30:\n",
    "        loop_counter = 0\n",
    "    loop_counter += 1\n",
    "    ###### OPEN IMAGE ######\n",
    "    opened_img = cv2.imread(img,1)\n",
    "    if position_in_image_filenames < len(image_filenames)-1:\n",
    "        position_in_image_filenames += 1\n",
    "    ###### NOISING IMAGE ######\n",
    "    noised_image = opened_img + 3 * opened_img.std() * np.random.random(opened_img.shape)\n",
    "    filename_class = image_filenames[position_in_image_filenames].split(\"_\")\n",
    "    ##print(\"Filename Class: \" + filename_class[0])\n",
    "    generate_new_filename = (filename_class[0]+\"_%05i.ppm\" % i for i in count(29+loop_counter))\n",
    "    ##print(\"Loop Counter: \", loop_counter)\n",
    "    new_filename = next(generate_new_filename)\n",
    "    ##print(\"New Filename: \" + new_filename)\n",
    "    new_filepath = os.path.join(TRAIN_IMG_DIR, new_filename)\n",
    "    ##print(\"New Filepath: \" + new_filepath)\n",
    "    ##print()\n",
    "    ###### SAVE NEW ROTATED IMAGE ######\n",
    "    cv2.imwrite(new_filepath, noised_image)"
   ]
  },
  {
   "cell_type": "code",
   "execution_count": null,
   "metadata": {},
   "outputs": [],
   "source": []
  },
  {
   "cell_type": "code",
   "execution_count": null,
   "metadata": {},
   "outputs": [],
   "source": []
  }
 ],
 "metadata": {
  "kernelspec": {
   "display_name": "Python 3",
   "language": "python",
   "name": "python3"
  },
  "language_info": {
   "codemirror_mode": {
    "name": "ipython",
    "version": 3
   },
   "file_extension": ".py",
   "mimetype": "text/x-python",
   "name": "python",
   "nbconvert_exporter": "python",
   "pygments_lexer": "ipython3",
   "version": "3.6.4"
  }
 },
 "nbformat": 4,
 "nbformat_minor": 2
}
