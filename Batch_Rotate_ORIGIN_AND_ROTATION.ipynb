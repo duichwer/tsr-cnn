{
 "cells": [
  {
   "cell_type": "code",
   "execution_count": 36,
   "metadata": {},
   "outputs": [],
   "source": [
    "from PIL import Image\n",
    "import matplotlib.pyplot as plt\n",
    "import os\n",
    "from os import listdir\n",
    "from os.path import isfile, join\n",
    "from os import walk\n",
    "from itertools import count"
   ]
  },
  {
   "cell_type": "code",
   "execution_count": 206,
   "metadata": {},
   "outputs": [],
   "source": [
    "# Root path is: C:\\Users\\Administrator\n",
    "\n",
    "TRAIN_IMG_DIR = '.\\\\traffic\\\\datasets\\\\GTSRB_Rotated_Image_Classes_From_Final_Training\\\\00042'"
   ]
  },
  {
   "cell_type": "code",
   "execution_count": 207,
   "metadata": {},
   "outputs": [],
   "source": [
    "# Erstellt ein Array mit den Dateinamen der Bilder\n",
    "image_filenames = [f for f in listdir(TRAIN_IMG_DIR) if f.endswith(\".ppm\")]\n",
    "\n",
    "f = []\n",
    "for (dirpath, dirnames, filenames) in walk(TRAIN_IMG_DIR):\n",
    "    f.extend(filenames)\n",
    "    break\n",
    "    \n",
    "# Erstellt ein Array mit dem absoluten Verzeichnispfad der Bilder \n",
    "images_absolute_filepaths = []\n",
    "\n",
    "for i in image_filenames:\n",
    "    abs_file_path = os.path.join(TRAIN_IMG_DIR, i)\n",
    "    images_absolute_filepaths.append(abs_file_path)"
   ]
  },
  {
   "cell_type": "code",
   "execution_count": 208,
   "metadata": {},
   "outputs": [],
   "source": [
    "#print(image_filenames)\n",
    "\n",
    "#print(images_absolute_filepaths)\n",
    "#len(images_absolute_filepaths)"
   ]
  },
  {
   "cell_type": "code",
   "execution_count": 209,
   "metadata": {},
   "outputs": [],
   "source": [
    "rotation_degree = [5,10,15,20,25,30,35,40,45,50,55,60,65,70,75,80,85,90,95,100,105,110,115,120,125,130,135,140,145,150,155,160,165,170,175,180,185,190,195,200,205,210,215,220,225,230,235,240,245,250,255,260,265,270,275,280,285,290,295,300,305,310,315,320,325,330,335,340,345,350,355]\n",
    "# print(\"Laenge des Arrays Rotation Degree: \" ,len(rotation_degree))\n",
    "\n",
    "position_in_image_filenames = -1\n",
    "for img in images_absolute_filepaths:\n",
    "    ###### OPEN IMAGE ######\n",
    "    opened_img = Image.open(img)\n",
    "    ###### OPENED IMAGE ######\n",
    "    if position_in_image_filenames < len(image_filenames)-1:\n",
    "        position_in_image_filenames += 1\n",
    "    ##print(\"##########################################\")\n",
    "    ##print(\"Absolute Filepath: \" + img)\n",
    "    ##print(\"##########################################\")\n",
    "    loop_counter = 0\n",
    "    for degree in rotation_degree:\n",
    "        loop_counter += 1\n",
    "        ###### ROTATE IMAGE ######\n",
    "        rotated_image = opened_img.rotate(degree)\n",
    "        ###### ROTATED IMAGE ######        \n",
    "        ##print(\"Degree: \", degree)\n",
    "        filename_class = image_filenames[position_in_image_filenames].split(\"_\")\n",
    "        ##print(\"Filename Class: \" + filename_class[0])\n",
    "        generate_new_filename = (filename_class[0]+\"_%05i.ppm\" % i for i in count(30+loop_counter))\n",
    "        new_filename = next(generate_new_filename)\n",
    "        ##print(\"New Filename: \" + new_filename)\n",
    "        new_filepath = os.path.join(TRAIN_IMG_DIR, new_filename)\n",
    "        ##print(\"New Filepath: \" + new_filepath)\n",
    "        ##print()\n",
    "        ###### SAVE NEW ROTATED IMAGE ######\n",
    "        rotated_image.save(new_filepath)\n",
    "        ###### SAVED NEW ROTATED IMAGE ######        \n",
    "        "
   ]
  },
  {
   "cell_type": "code",
   "execution_count": null,
   "metadata": {},
   "outputs": [],
   "source": []
  },
  {
   "cell_type": "code",
   "execution_count": null,
   "metadata": {},
   "outputs": [],
   "source": []
  }
 ],
 "metadata": {
  "kernelspec": {
   "display_name": "Python 3",
   "language": "python",
   "name": "python3"
  },
  "language_info": {
   "codemirror_mode": {
    "name": "ipython",
    "version": 3
   },
   "file_extension": ".py",
   "mimetype": "text/x-python",
   "name": "python",
   "nbconvert_exporter": "python",
   "pygments_lexer": "ipython3",
   "version": "3.6.4"
  }
 },
 "nbformat": 4,
 "nbformat_minor": 2
}
